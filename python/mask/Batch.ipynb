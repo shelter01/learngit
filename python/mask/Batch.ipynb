{
 "cells": [
  {
   "cell_type": "code",
   "execution_count": 1,
   "metadata": {},
   "outputs": [],
   "source": [
    "import geohash\n",
    "import pandas as pd\n",
    "import numpy as np\n",
    "import random\n",
    "import math\n",
    "from sklearn.linear_model import LinearRegression\n",
    "import matplotlib.pyplot as plt\n",
    "%matplotlib inline\n",
    "\n",
    "from init import init\n",
    "from eva import eva\n",
    "from nond import nond\n",
    "from ope import ope\n",
    "from tour import tour\n",
    "from rep import rep\n",
    "#读取距离矩阵\n",
    "dis = pd.read_csv('C:/Users/sjw/Desktop/paper/data/dis.csv',header=None,low_memory=False).values.tolist()\n",
    "\n",
    "#生成初始停车顺序，V用户，gen代数，pop种群大小，M目标函数数量，\n",
    "V = len(dis)\n",
    "M = 2\n",
    "gen = 100\n",
    "pop = 30\n",
    "#初始化与排序\n",
    "chro,train = init(pop,V,dis)\n",
    "chro = nond(chro,M,V)\n",
    "#选择参数\n",
    "tour_size = 2\n",
    "pour_size = round(pop/2)\n",
    "chro_lr = []"
   ]
  },
  {
   "cell_type": "code",
   "execution_count": 2,
   "metadata": {},
   "outputs": [],
   "source": [
    "#选择交叉\n",
    "chro = tour(chro,pour_size,tour_size)\n",
    "ope(chro,M,V,dis,train)\n",
    "#回归变异\n",
    "y = []\n",
    "lr_x = []\n",
    "for i in range(len(train)):\n",
    "    y.append(train[i][745])\n",
    "    lr_x.append(train[i][0:745])\n",
    "y = np.reshape(y,newshape=(i+1,1))\n",
    "\n",
    "lr = LinearRegression()\n",
    "lr.fit(lr_x,y)\n",
    "lastlist = np.argsort(lr.coef_[0],axis=0)\n",
    "#回归系数\n",
    "gentic = lastlist.tolist()\n",
    "sup = eva(gentic,V,dis)\n",
    "#变异个体训练集基因\n",
    "#train.append(sup)\n",
    "#变异个体集合\n",
    "chro_lr.append(gentic)\n",
    "#排序\n",
    "chro = nond(chro,M,V)\n",
    "#继承淘汰\n",
    "rep(chro,M,V,pop)\n",
    "\n",
    "chro = rep(chro,M,V,pop)"
   ]
  },
  {
   "cell_type": "code",
   "execution_count": null,
   "metadata": {},
   "outputs": [],
   "source": []
  },
  {
   "cell_type": "code",
   "execution_count": 3,
   "metadata": {},
   "outputs": [
    {
     "name": "stdout",
     "output_type": "stream",
     "text": [
      "[462207.407468717, 586.7500000000001, 1, 1.138820887891191]\n",
      "[467039.7931402256, 576.75, 1, 1.3308172090847756]\n",
      "[462207.407468717, 586.7500000000001, 1, 1.7388208878911908]\n",
      "[470555.3907133517, 570.7500000000001, 1, -inf]\n",
      "[461586.945391157, 610.7500000000001, 1, -inf]\n",
      "[467504.7102465684, 582.7500000000001, 2, -inf]\n",
      "[461738.1274933935, 616.7500000000002, 2, -inf]\n",
      "[462401.94261694275, 590.75, 2, 1.5169866492282833]\n",
      "[465737.00603901525, 588.7500000000001, 2, 1.120179993396643]\n",
      "[463208.5096375364, 592.7500000000001, 3, 1.3199351370602668]\n",
      "[473561.2434644257, 582.7500000000002, 3, -inf]\n",
      "[462424.5732998032, 596.7500000000002, 3, -inf]\n",
      "[467578.53827597684, 584.75, 3, 1.6438933684457853]\n",
      "[467204.53869706206, 592.7500000000001, 4, 0.5989246302565817]\n",
      "[464857.27216465375, 596.75, 4, 0.6671228097348822]\n",
      "[466072.1683326947, 594.75, 4, 0.4741319456253919]\n",
      "[463042.4734538081, 618.7500000000001, 4, -inf]\n",
      "[468838.2379442275, 588.7500000000001, 4, 0.5684352640042165]\n",
      "[469765.62371782557, 586.7500000000001, 4, -inf]\n",
      "[463267.7890042979, 602.7500000000001, 4, 0.9574327903703916]\n",
      "[463368.70218487195, 606.7500000000001, 5, -inf]\n",
      "[471297.93269625853, 588.75, 5, -inf]\n",
      "[465458.4797394377, 596.7500000000001, 5, 1.0254641335768557]\n",
      "[466213.6900069044, 594.75, 5, 0.9098093884024476]\n",
      "[470910.5168767518, 592.7500000000001, 5, 0.974535866423144]\n",
      "[469476.05313247704, 594.7500000000001, 6, -inf]\n",
      "[465631.5981495644, 598.75, 6, 2.0]\n",
      "[465409.39548460796, 620.7500000000002, 6, -inf]\n",
      "[467118.48372950073, 598.75, 7, 1.9659805508131352]\n",
      "[466629.19709480065, 602.75, 7, 0.833221834536524]\n"
     ]
    }
   ],
   "source": [
    "for i in range(len(chro)):\n",
    "    print(chro[i][745:])"
   ]
  },
  {
   "cell_type": "code",
   "execution_count": 4,
   "metadata": {},
   "outputs": [
    {
     "data": {
      "text/plain": [
       "[462724.34972011455, 586.7500000000001]"
      ]
     },
     "execution_count": 4,
     "metadata": {},
     "output_type": "execute_result"
    }
   ],
   "source": [
    "chro_lr[0][745:]"
   ]
  },
  {
   "cell_type": "code",
   "execution_count": null,
   "metadata": {},
   "outputs": [],
   "source": []
  }
 ],
 "metadata": {
  "kernelspec": {
   "display_name": "Python 3",
   "language": "python",
   "name": "python3"
  },
  "language_info": {
   "codemirror_mode": {
    "name": "ipython",
    "version": 3
   },
   "file_extension": ".py",
   "mimetype": "text/x-python",
   "name": "python",
   "nbconvert_exporter": "python",
   "pygments_lexer": "ipython3",
   "version": "3.7.3"
  }
 },
 "nbformat": 4,
 "nbformat_minor": 2
}
