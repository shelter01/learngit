{
 "cells": [
  {
   "cell_type": "code",
   "execution_count": 33,
   "metadata": {},
   "outputs": [],
   "source": [
    "import pandas as pd\n",
    "import numpy as np\n",
    "import random\n",
    "import math"
   ]
  },
  {
   "cell_type": "code",
   "execution_count": 34,
   "metadata": {},
   "outputs": [],
   "source": [
    "point = pd.read_csv('d:/sjw/experimental/regression/point.csv',header=None)#停车数据\n",
    "center = pd.read_csv('d:/sjw/experimental/regression/center.csv',header=None)#停车点数据"
   ]
  },
  {
   "cell_type": "code",
   "execution_count": 35,
   "metadata": {},
   "outputs": [],
   "source": [
    "#转化成列表\n",
    "point = point.values.tolist()\n",
    "center = center.values.tolist()"
   ]
  },
  {
   "cell_type": "code",
   "execution_count": 36,
   "metadata": {},
   "outputs": [],
   "source": [
    "#生成初始停车顺序\n",
    "V = len(point)\n",
    "P = len(center)"
   ]
  },
  {
   "cell_type": "code",
   "execution_count": 37,
   "metadata": {},
   "outputs": [],
   "source": [
    "mindis = 0"
   ]
  },
  {
   "cell_type": "code",
   "execution_count": 38,
   "metadata": {},
   "outputs": [],
   "source": [
    "for i in range(V):#遍历停车队列\n",
    "        for j in range(P):#遍历带停车辆到每个停车点的距离\n",
    "            t_dis = np.sqrt(np.sum(np.square(np.array(point[i])-np.array(center[j]))))\n",
    "            if j == 0:#初始化理想最近距离和停车点编号\n",
    "                v_min = t_dis\n",
    "            \n",
    "            if t_dis < v_min:#更新得到最近的理想距离和编号\n",
    "                v_min = t_dis\n",
    "                     \n",
    "        mindis = mindis + v_min"
   ]
  },
  {
   "cell_type": "code",
   "execution_count": 39,
   "metadata": {},
   "outputs": [
    {
     "data": {
      "text/plain": [
       "34.69032721539896"
      ]
     },
     "execution_count": 39,
     "metadata": {},
     "output_type": "execute_result"
    }
   ],
   "source": [
    "mindis"
   ]
  },
  {
   "cell_type": "code",
   "execution_count": null,
   "metadata": {},
   "outputs": [],
   "source": []
  }
 ],
 "metadata": {
  "kernelspec": {
   "display_name": "Python 3",
   "language": "python",
   "name": "python3"
  },
  "language_info": {
   "codemirror_mode": {
    "name": "ipython",
    "version": 3
   },
   "file_extension": ".py",
   "mimetype": "text/x-python",
   "name": "python",
   "nbconvert_exporter": "python",
   "pygments_lexer": "ipython3",
   "version": "3.6.4"
  }
 },
 "nbformat": 4,
 "nbformat_minor": 2
}
