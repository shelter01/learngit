{
 "cells": [
  {
   "cell_type": "code",
   "execution_count": 8,
   "metadata": {},
   "outputs": [],
   "source": [
    "import decoding_ga\n",
    "import random\n",
    "def ini(pop,M,V,point,center):\n",
    "    \n",
    "    chromosome = []\n",
    "    train = []\n",
    "    \n",
    "    for i in range(pop):\n",
    "        l = list(range(V))\n",
    "        random.shuffle(l)\n",
    "        #解码\n",
    "        ch,tr = decoding_ga.dec(l,M,V,point,center)\n",
    "        chromosome.append(ch)\n",
    "        train.append(tr)\n",
    "        \n",
    "    return chromosome,train"
   ]
  },
  {
   "cell_type": "code",
   "execution_count": null,
   "metadata": {},
   "outputs": [],
   "source": []
  }
 ],
 "metadata": {
  "kernelspec": {
   "display_name": "Python 3",
   "language": "python",
   "name": "python3"
  },
  "language_info": {
   "codemirror_mode": {
    "name": "ipython",
    "version": 3
   },
   "file_extension": ".py",
   "mimetype": "text/x-python",
   "name": "python",
   "nbconvert_exporter": "python",
   "pygments_lexer": "ipython3",
   "version": "3.6.4"
  }
 },
 "nbformat": 4,
 "nbformat_minor": 2
}
