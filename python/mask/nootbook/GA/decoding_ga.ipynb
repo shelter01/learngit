{
 "cells": [
  {
   "cell_type": "code",
   "execution_count": 8,
   "metadata": {},
   "outputs": [],
   "source": [
    "import numpy as np"
   ]
  },
  {
   "cell_type": "code",
   "execution_count": 9,
   "metadata": {},
   "outputs": [],
   "source": [
    "def dec(l,M,V,point,center):\n",
    "    \n",
    "    #收集训练集\n",
    "    train = [0 for x in range(V)]\n",
    "    \n",
    "    #停车点个数\n",
    "    P = len(center)\n",
    "    \n",
    "    #平均停放上限\n",
    "    vehicleLimit = round(V/P/0.75)\n",
    "    \n",
    "    #统计距离代价\n",
    "    minDis = 0\n",
    "    \n",
    "    #统计密度代价\n",
    "    variance = 0\n",
    "    vehicleAvg = round(V/P)\n",
    "    \n",
    "    #统计各停放点停车数量\n",
    "    stopNum = []\n",
    "    for x in range(P):\n",
    "        stopNum.append(0)\n",
    "        \n",
    "    for i in range(V):\n",
    "        \n",
    "        #可用标志位\n",
    "        available = 0\n",
    "        \n",
    "        for j in range(P):\n",
    "            #存放该车辆到当前停车点的距离\n",
    "            disTemp = np.sqrt(np.sum(np.square(np.array(point[l[i]])-np.array(center[j]))))\n",
    "            #初始化最近距离和停车点编号（不考虑竞争）\n",
    "            if j == 0:\n",
    "                minTemp = disTemp\n",
    "                minNum = j\n",
    "                \n",
    "            #更新最近的距离和编号（不考虑竞争）\n",
    "            if disTemp < minTemp:\n",
    "                minTemp = disTemp\n",
    "                minNum = j\n",
    "                \n",
    "            if stopNum[j] < vehicleLimit:#实际有停车位时\n",
    "                if available == 0:\n",
    "                    dis = disTemp\n",
    "                    trueNum = j\n",
    "                    available = 1\n",
    "                if disTemp < dis:\n",
    "                    dis = disTemp\n",
    "                    trueNum = j\n",
    "                    \n",
    "        #判断是否停到了最近的停车位(机器学习编码)\n",
    "        if trueNum == minNum:\n",
    "            train[l[i]] = 1\n",
    "        else:\n",
    "            train[l[i]] = 0\n",
    "                \n",
    "        #计算距离代价和车辆停放情况        \n",
    "        minDis = minDis + dis\n",
    "        stopNum[trueNum] = stopNum[trueNum] + 1\n",
    "    \n",
    "    #计算密度代价\n",
    "    for i in range(P):\n",
    "        variance = variance + (stopNum[i] - vehicleAvg) ** 2\n",
    "        \n",
    "    l.append(minDis)\n",
    "    l.append(variance)\n",
    "    \n",
    "    return l,train"
   ]
  },
  {
   "cell_type": "code",
   "execution_count": null,
   "metadata": {},
   "outputs": [],
   "source": []
  }
 ],
 "metadata": {
  "kernelspec": {
   "display_name": "Python 3",
   "language": "python",
   "name": "python3"
  },
  "language_info": {
   "codemirror_mode": {
    "name": "ipython",
    "version": 3
   },
   "file_extension": ".py",
   "mimetype": "text/x-python",
   "name": "python",
   "nbconvert_exporter": "python",
   "pygments_lexer": "ipython3",
   "version": "3.6.4"
  }
 },
 "nbformat": 4,
 "nbformat_minor": 2
}
