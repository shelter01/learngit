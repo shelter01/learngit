{
 "cells": [
  {
   "cell_type": "code",
   "execution_count": 207,
   "metadata": {},
   "outputs": [],
   "source": [
    "#数据筛选\n",
    "import geohash\n",
    "import pandas as pd\n",
    "import numpy as np\n",
    "import random\n",
    "import math\n",
    "from sklearn.linear_model import LinearRegression\n",
    "import matplotlib.pyplot as plt\n",
    "%matplotlib inline"
   ]
  },
  {
   "cell_type": "code",
   "execution_count": 208,
   "metadata": {},
   "outputs": [],
   "source": [
    "#计算两坐标之间的距离\n",
    "from math import radians, cos, sin, asin, sqrt\n",
    "def haversine(lon1, lat1, lon2, lat2): # 经度1，纬度1，经度2，纬度2 （十进制度数）\n",
    "    \"\"\"\n",
    "    Calculate the great circle distance between two points \n",
    "    on the earth (specified in decimal degrees)\n",
    "    \"\"\"\n",
    "    # 将十进制度数转化为弧度\n",
    "    lon1, lat1, lon2, lat2 = map(radians, [lon1, lat1, lon2, lat2])\n",
    " \n",
    "    # haversine公式\n",
    "    dlon = lon2 - lon1 \n",
    "    dlat = lat2 - lat1 \n",
    "    a = sin(dlat/2)**2 + cos(lat1) * cos(lat2) * sin(dlon/2)**2\n",
    "    c = 2 * asin(sqrt(a)) \n",
    "    r = 6371 # 地球平均半径，单位为公里\n",
    "    return c * r * 1000"
   ]
  },
  {
   "cell_type": "code",
   "execution_count": 209,
   "metadata": {},
   "outputs": [],
   "source": [
    "#读取训练集\n",
    "table = pd.read_csv('C:/Users/sjw/Desktop/paper/data/train.csv',header=None,low_memory=False).values.tolist()"
   ]
  },
  {
   "cell_type": "code",
   "execution_count": 211,
   "metadata": {},
   "outputs": [],
   "source": [
    "dat = []\n",
    "for x in range(len(table)):\n",
    "    if(table[x][4][8:10]=='11'):\n",
    "        if(table[x][4][11:13]=='18'):\n",
    "            dat.append(table[x])"
   ]
  },
  {
   "cell_type": "code",
   "execution_count": 213,
   "metadata": {},
   "outputs": [],
   "source": [
    "#骑行距离过短的删除（同一块区域）\n",
    "sh_d = []\n",
    "for x in range(len(dat)):\n",
    "    dis = haversine(float(geohash.decode(dat[x][6])[1]), float(geohash.decode(dat[x][6])[0]), float(geohash.decode(dat[x][5])[1]), float(geohash.decode(dat[x][5])[0]))\n",
    "    if(dis!=0):\n",
    "        sh_d.append(dat[x])"
   ]
  },
  {
   "cell_type": "code",
   "execution_count": 218,
   "metadata": {},
   "outputs": [],
   "source": [
    "#截取时间点在5月11日18:00-19:00，在18:55-19:00到达目的地的车辆集合\n",
    "sh = []\n",
    "for x in range(len(sh_d)):\n",
    "    time = int(sh_d[x][4][11:13])*60 + int(sh_d[x][4][14:16])\n",
    "    dis = haversine(float(geohash.decode(sh_d[x][6])[1]), float(geohash.decode(sh_d[x][6])[0]), float(geohash.decode(sh_d[x][5])[1]), float(geohash.decode(sh_d[x][5])[0]))\n",
    "    t_d = int(time + dis/200)\n",
    "    if(t_d>=1136 and t_d<=1140):\n",
    "        sh.append(sh_d[x])"
   ]
  },
  {
   "cell_type": "code",
   "execution_count": 220,
   "metadata": {},
   "outputs": [],
   "source": [
    "#筛116.3-116.5,39.8-40.0位置车辆\n",
    "X = []\n",
    "for x in range(len(sh)):\n",
    "    if(float(geohash.decode(sh[x][6])[1])>=116.3 and float(geohash.decode(sh[x][6])[1])<=116.5 and float(geohash.decode(sh[x][6])[0])>=39.8 and float(geohash.decode(sh[x][6])[0])<=40):\n",
    "        X.append(sh[x])"
   ]
  },
  {
   "cell_type": "code",
   "execution_count": 222,
   "metadata": {},
   "outputs": [],
   "source": [
    "import csv\n",
    "X\n",
    "with open('C:/Users/sjw/Desktop/paper/data/examB.csv', 'w', newline='') as csvfile:\n",
    "    writer  = csv.writer(csvfile)\n",
    "    for row in X:\n",
    "        writer.writerow(row)"
   ]
  },
  {
   "cell_type": "code",
   "execution_count": null,
   "metadata": {},
   "outputs": [],
   "source": []
  }
 ],
 "metadata": {
  "kernelspec": {
   "display_name": "Python 3",
   "language": "python",
   "name": "python3"
  },
  "language_info": {
   "codemirror_mode": {
    "name": "ipython",
    "version": 3
   },
   "file_extension": ".py",
   "mimetype": "text/x-python",
   "name": "python",
   "nbconvert_exporter": "python",
   "pygments_lexer": "ipython3",
   "version": "3.7.3"
  }
 },
 "nbformat": 4,
 "nbformat_minor": 2
}
