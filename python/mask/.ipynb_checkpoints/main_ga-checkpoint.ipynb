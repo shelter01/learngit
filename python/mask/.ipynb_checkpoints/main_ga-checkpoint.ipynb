{
 "cells": [
  {
   "cell_type": "code",
   "execution_count": null,
   "metadata": {},
   "outputs": [],
   "source": [
    "import geohash\n",
    "import pandas as pd\n",
    "import numpy as np\n",
    "import random\n",
    "import math\n",
    "from sklearn.linear_model import LinearRegression\n",
    "import matplotlib.pyplot as plt\n",
    "%matplotlib inline"
   ]
  },
  {
   "cell_type": "code",
   "execution_count": null,
   "metadata": {},
   "outputs": [],
   "source": [
    "#读取距离矩阵\n",
    "dis = pd.read_csv('C:/Users/sjw/Desktop/paper/data/dis.csv',header=None,low_memory=False).values.tolist()"
   ]
  },
  {
   "cell_type": "code",
   "execution_count": null,
   "metadata": {},
   "outputs": [],
   "source": [
    "for i in range()"
   ]
  },
  {
   "cell_type": "code",
   "execution_count": null,
   "metadata": {},
   "outputs": [],
   "source": [
    "def evaluate(chro,M,V,dis):\n",
    "    obj = []\n",
    "    P = len(dis[0])\n",
    "    parkMax = round(V/P/0.75)\n",
    "    park = np.zeros(P).tolist()\n",
    "    train = np.zeros(P).tolist()\n",
    "    disSum = 0\n",
    "    for i in range(V):\n",
    "        index = np.argsort(dis[chro[i]])\n",
    "        for j in range(len(index)):\n",
    "            if(park[index[j]]<parkMax):\n",
    "                park[index[j]] = park[index[j]]+1\n",
    "                disSum = disSum+dis[chro[i]][index[j]]\n",
    "                if(j==0):\n",
    "                    train[index[j]] = 1\n",
    "                break;\n",
    "    obj.append(disSum)\n",
    "    obj.append(np.mean(park))\n",
    "    obj.append(train)\n",
    "    return obj"
   ]
  }
 ],
 "metadata": {
  "kernelspec": {
   "display_name": "Python 3",
   "language": "python",
   "name": "python3"
  },
  "language_info": {
   "codemirror_mode": {
    "name": "ipython",
    "version": 3
   },
   "file_extension": ".py",
   "mimetype": "text/x-python",
   "name": "python",
   "nbconvert_exporter": "python",
   "pygments_lexer": "ipython3",
   "version": "3.7.3"
  }
 },
 "nbformat": 4,
 "nbformat_minor": 2
}
