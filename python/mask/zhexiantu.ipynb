{
 "cells": [
  {
   "cell_type": "code",
   "execution_count": 1,
   "metadata": {},
   "outputs": [],
   "source": [
    "import geohash\n",
    "import pandas as pd\n",
    "import numpy as np\n",
    "import random\n",
    "import math\n",
    "import operator\n",
    "from sklearn.linear_model import LinearRegression\n",
    "from hv import HyperVolume\n",
    "import matplotlib.pyplot as plt\n",
    "%matplotlib inline\n",
    "\n",
    "from init import init\n",
    "from eva import eva\n",
    "from nond import nond\n",
    "from ope import ope\n",
    "from tour import tour\n",
    "from rep import rep\n",
    "from score import score\n",
    "from linear import linear\n",
    "#读取距离矩阵\n",
    "dis = pd.read_csv('C:/Users/sjw/Desktop/paper/data/dis.csv',header=None,low_memory=False).values.tolist()\n",
    "\n",
    "#生成初始停车顺序，V用户，gen代数，pop种群大小，M目标函数数量，\n",
    "V = len(dis)\n",
    "M = 2\n",
    "gen = 50\n",
    "pop = 30\n",
    "#初始化与排序\n",
    "chro,train = init(pop,V,dis)\n",
    "chro = nond(chro,M,V)\n",
    "#选择参数\n",
    "#tour_size = 2\n",
    "#pour_size = round(pop/2)\n",
    "chro_lr = [[],[],[]]\n",
    "\n",
    "scoreP = []\n",
    "scoreN = []"
   ]
  },
  {
   "cell_type": "code",
   "execution_count": 2,
   "metadata": {},
   "outputs": [],
   "source": [
    "for g in range(gen):\n",
    "    #选择交叉\n",
    "    #chro = tour(chro,pour_size,tour_size)\n",
    "    ope(chro,M,V,dis,train)\n",
    "    #回归变异\n",
    "    gentic = linear(train,745)\n",
    "    gentic2 = linear(train,746)\n",
    "    gentic3 = linear(train,747)\n",
    "    \n",
    "    sup = eva(gentic,V,dis)\n",
    "    sup2 = eva(gentic2,V,dis)\n",
    "    sup3 = eva(gentic3,V,dis)\n",
    "    #变异个体集合\n",
    "    chro_lr[0].append(gentic)\n",
    "    chro_lr[1].append(gentic2)\n",
    "    chro_lr[2].append(gentic3)\n",
    "    \n",
    "    chro = nond(chro,M,V)\n",
    "    #继承淘汰\n",
    "    chro = rep(chro,M,V,pop)"
   ]
  },
  {
   "cell_type": "code",
   "execution_count": 3,
   "metadata": {},
   "outputs": [],
   "source": [
    "#加变异\n",
    "for i in range(len(chro_lr[0])):\n",
    "    chro.append(chro_lr[0][i])\n",
    "    #合并\n",
    "    chro = nond(chro,M,V)\n",
    "    chro = rep(chro,M,V,pop)\n",
    "    scoreP.append(score(chro))"
   ]
  },
  {
   "cell_type": "code",
   "execution_count": 4,
   "metadata": {},
   "outputs": [],
   "source": [
    "for i in range(len(chro_lr[0])):\n",
    "    chro.append(chro_lr[1][i])\n",
    "    chro.append(chro_lr[2][i])\n",
    "    #合并\n",
    "    chro = nond(chro,M,V)\n",
    "    chro = rep(chro,M,V,pop)\n",
    "    scoreN.append(score(chro))"
   ]
  },
  {
   "cell_type": "code",
   "execution_count": 5,
   "metadata": {},
   "outputs": [
    {
     "data": {
      "text/plain": [
       "<matplotlib.legend.Legend at 0x1d828c79ef0>"
      ]
     },
     "execution_count": 5,
     "metadata": {},
     "output_type": "execute_result"
    },
    {
     "data": {
      "image/png": "[encoded data removed]",
      "text/plain": [
       "<Figure size 432x288 with 1 Axes>"
      ]
     },
     "metadata": {
      "needs_background": "light"
     },
     "output_type": "display_data"
    }
   ],
   "source": [
    "x = []\n",
    "\n",
    "for i in range(gen):\n",
    "    x.append(i)\n",
    "\n",
    "plt.rcParams['font.sans-serif']=['SimHei']\n",
    "plt.rcParams['axes.unicode_minus'] = False\n",
    "\n",
    "#设置X轴标签  \n",
    "plt.xlabel('遗传代数',fontsize=15)  \n",
    "#设置Y轴标签  \n",
    "plt.ylabel('Hypervolume评价指标',fontsize=15)\n",
    "\n",
    "plt.plot(x,scoreN,linestyle=\"-\", label=\"三变异\")\n",
    "plt.plot(x,scoreP,'--',linestyle=\"--\", label=\"单变异\")\n",
    "plt.legend(loc='lower right')"
   ]
  },
  {
   "cell_type": "code",
   "execution_count": 7,
   "metadata": {},
   "outputs": [],
   "source": []
  },
  {
   "cell_type": "code",
   "execution_count": null,
   "metadata": {},
   "outputs": [],
   "source": []
  }
 ],
 "metadata": {
  "kernelspec": {
   "display_name": "Python 3",
   "language": "python",
   "name": "python3"
  },
  "language_info": {
   "codemirror_mode": {
    "name": "ipython",
    "version": 3
   },
   "file_extension": ".py",
   "mimetype": "text/x-python",
   "name": "python",
   "nbconvert_exporter": "python",
   "pygments_lexer": "ipython3",
   "version": "3.7.3"
  }
 },
 "nbformat": 4,
 "nbformat_minor": 2
}
