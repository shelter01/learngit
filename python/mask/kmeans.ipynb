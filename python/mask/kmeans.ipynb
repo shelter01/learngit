{
 "cells": [
  {
   "cell_type": "code",
   "execution_count": 24,
   "metadata": {},
   "outputs": [],
   "source": [
    "import pandas as pd\n",
    "import numpy as np\n",
    "import geohash\n",
    "import matplotlib.pyplot as plt\n",
    "%matplotlib inline\n",
    "from sklearn.cluster import KMeans\n",
    "from sklearn.metrics import calinski_harabaz_score\n",
    "from sklearn import metrics"
   ]
  },
  {
   "cell_type": "code",
   "execution_count": 25,
   "metadata": {},
   "outputs": [],
   "source": [
    "table = pd.read_csv('C:/Users/sjw/Desktop/paper/data/exam10.csv',header=None,low_memory=False).values.tolist()"
   ]
  },
  {
   "cell_type": "code",
   "execution_count": 26,
   "metadata": {},
   "outputs": [],
   "source": [
    "#构造散点集x\n",
    "X = []\n",
    "for x in range(len(table)):\n",
    "    X.append([float(geohash.decode(table[x][2])[1]),float(geohash.decode(table[x][2])[0])])\n",
    "    X.append([float(geohash.decode(table[x][2])[1]),float(geohash.decode(table[x][2])[0])])\n",
    "\n",
    "X = np.array(X)"
   ]
  },
  {
   "cell_type": "code",
   "execution_count": 27,
   "metadata": {},
   "outputs": [
    {
     "data": {
      "text/plain": [
       "array([[116.48,  39.9 ],\n",
       "       [116.48,  39.9 ],\n",
       "       [116.42,  39.8 ],\n",
       "       [116.42,  39.8 ],\n",
       "       [116.34,  39.97],\n",
       "       [116.34,  39.97],\n",
       "       [116.41,  39.81],\n",
       "       [116.41,  39.81],\n",
       "       [116.35,  39.95],\n",
       "       [116.35,  39.95],\n",
       "       [116.48,  39.89],\n",
       "       [116.48,  39.89],\n",
       "       [116.36,  39.96],\n",
       "       [116.36,  39.96],\n",
       "       [116.35,  39.93],\n",
       "       [116.35,  39.93],\n",
       "       [116.35,  39.88],\n",
       "       [116.35,  39.88],\n",
       "       [116.33,  39.89],\n",
       "       [116.33,  39.89]])"
      ]
     },
     "execution_count": 27,
     "metadata": {},
     "output_type": "execute_result"
    }
   ],
   "source": [
    "X"
   ]
  },
  {
   "cell_type": "code",
   "execution_count": 28,
   "metadata": {
    "scrolled": true
   },
   "outputs": [
    {
     "name": "stdout",
     "output_type": "stream",
     "text": [
      "1.0\n"
     ]
    }
   ],
   "source": [
    "#聚类\n",
    "estimator = KMeans(n_clusters=10, n_init=500)#构造聚类器\n",
    "result = estimator.fit_predict(X)#聚类\n",
    "centroids = estimator.cluster_centers_ #获取聚类中心\n",
    "#分数\n",
    "print(metrics.calinski_harabasz_score(X, result))"
   ]
  },
  {
   "cell_type": "code",
   "execution_count": 29,
   "metadata": {},
   "outputs": [
    {
     "data": {
      "image/png": "[encoded data removed]",
      "text/plain": [
       "<Figure size 432x288 with 1 Axes>"
      ]
     },
     "metadata": {
      "needs_background": "light"
     },
     "output_type": "display_data"
    }
   ],
   "source": [
    "plt.scatter(X[:, 0], X[:, 1], c=result)\n",
    "plt.scatter(centroids[:, 0], centroids[:, 1], marker='x', c='r')\n",
    "plt.show()"
   ]
  },
  {
   "cell_type": "code",
   "execution_count": null,
   "metadata": {},
   "outputs": [],
   "source": []
  }
 ],
 "metadata": {
  "kernelspec": {
   "display_name": "Python 3",
   "language": "python",
   "name": "python3"
  },
  "language_info": {
   "codemirror_mode": {
    "name": "ipython",
    "version": 3
   },
   "file_extension": ".py",
   "mimetype": "text/x-python",
   "name": "python",
   "nbconvert_exporter": "python",
   "pygments_lexer": "ipython3",
   "version": "3.7.3"
  }
 },
 "nbformat": 4,
 "nbformat_minor": 2
}
